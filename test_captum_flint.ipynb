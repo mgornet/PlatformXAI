{
 "cells": [
  {
   "cell_type": "markdown",
   "id": "64ea3cc6",
   "metadata": {},
   "source": [
    "## Load flint"
   ]
  },
  {
   "cell_type": "code",
   "execution_count": 1,
   "id": "26476f33",
   "metadata": {},
   "outputs": [],
   "source": [
    "import matplotlib # Importing matplotlib for it working on remote server\n",
    "import matplotlib.pyplot as plt\n",
    "import matplotlib.colors as color\n",
    "\n",
    "import os, sys\n",
    "home_dir = os.getcwd()\n",
    "\n",
    "import torch # All the torch modules\n",
    "\n",
    "# because train\n",
    "import random\n",
    "random.seed(121)\n",
    "torch.manual_seed(121)\n",
    "torch.cuda.manual_seed(121)\n",
    "torch.backends.cudnn.deterministic = True\n",
    "\n",
    "import torch.nn as nn\n",
    "import torch.nn.functional as F\n",
    "import torch.optim as optim\n",
    "from torch.optim import lr_scheduler\n",
    "from torch.autograd import Variable\n",
    "from torchvision import datasets, transforms\n",
    "import itertools, time\n",
    "\n",
    "import numpy as np"
   ]
  },
  {
   "cell_type": "code",
   "execution_count": 2,
   "id": "799f7c6f",
   "metadata": {},
   "outputs": [],
   "source": [
    "use_cuda = True\n",
    "device = torch.device(\"cuda\" if use_cuda else \"cpu\")\n",
    "train_shuffle = True\n",
    "test_shuffle = True\n",
    "train_epoch_info = []\n",
    "test_epoch_info = []\n",
    "\n",
    "criterion = nn.CrossEntropyLoss()\n",
    "criterion2 = nn.L1Loss()\n",
    "\n",
    "dataset = \"cifar10\""
   ]
  },
  {
   "cell_type": "code",
   "execution_count": 3,
   "id": "42f5a95a",
   "metadata": {},
   "outputs": [
    {
     "name": "stdout",
     "output_type": "stream",
     "text": [
      "Files already downloaded and verified\n",
      "Files already downloaded and verified\n",
      "Files already downloaded and verified\n",
      "Files already downloaded and verified\n"
     ]
    }
   ],
   "source": [
    "n_classes = 10\n",
    "N_EPOCH = 25\n",
    "norm_mean = (0.4914, 0.4822, 0.4465)\n",
    "norm_std = (0.247, 0.243, 0.261)    \n",
    "train_loader = torch.utils.data.DataLoader( datasets.CIFAR10(home_dir + '/datasets', train=True, download=True, transform=transforms.Compose([ transforms.RandomCrop(32, padding=2), transforms.ToTensor(), transforms.Normalize(norm_mean, norm_std) ])), batch_size=64, shuffle=train_shuffle, num_workers=32)\n",
    "test_loader = torch.utils.data.DataLoader( datasets.CIFAR10(home_dir + '/datasets', train=False, download=True, transform=transforms.Compose([ transforms.ToTensor(), transforms.Normalize(norm_mean, norm_std) ])), batch_size=32, shuffle=test_shuffle, num_workers=20) #batch_size 32\n",
    "train_data = datasets.CIFAR10(home_dir + '/datasets', train=True, download=True, transform=transforms.Compose([ transforms.ToTensor(), transforms.Normalize(norm_mean, norm_std) ]))\n",
    "test_data = datasets.CIFAR10(home_dir + '/datasets', train=False, download=True, transform=transforms.Compose([ transforms.ToTensor(), transforms.Normalize(norm_mean, norm_std) ]))"
   ]
  },
  {
   "cell_type": "code",
   "execution_count": 4,
   "id": "972b9d73",
   "metadata": {},
   "outputs": [],
   "source": [
    "classes = ('plane', 'car', 'bird', 'cat',\n",
    "           'deer', 'dog', 'frog', 'horse', 'ship', 'truck')"
   ]
  },
  {
   "cell_type": "code",
   "execution_count": 5,
   "id": "ba5cec81",
   "metadata": {},
   "outputs": [],
   "source": [
    "class BasicBlock3(nn.Module):\n",
    "    expansion = 1\n",
    "\n",
    "    def __init__(self, in_planes, planes, stride=1):\n",
    "        super(BasicBlock3, self).__init__()\n",
    "        self.conv1 = nn.Conv2d(\n",
    "            in_planes, planes, kernel_size=3, stride=stride, padding=1, bias=False)\n",
    "        self.activ = nn.ReLU()\n",
    "        self.conv2 = nn.Conv2d(planes, planes, kernel_size=3,\n",
    "                               stride=1, padding=1, bias=False)\n",
    "\n",
    "        self.shortcut = nn.Sequential()\n",
    "        if stride != 1 or in_planes != self.expansion*planes:\n",
    "            self.shortcut = nn.Sequential(\n",
    "                nn.Conv2d(in_planes, self.expansion*planes,\n",
    "                          kernel_size=1, stride=stride, bias=False)\n",
    "            )\n",
    "\n",
    "    def forward(self, x):\n",
    "        out = self.activ(self.conv1(x[0]))\n",
    "        out = self.conv2(out)\n",
    "        out += self.shortcut(x[0])\n",
    "        out = self.activ(out)\n",
    "        return [out, x[0]]\n",
    "\n",
    "class ResNet_34(nn.Module):\n",
    "    def __init__(self, block, num_blocks, num_classes=10, in_maps=1):\n",
    "        super(ResNet_34, self).__init__()\n",
    "        self.in_planes = 64\n",
    "\n",
    "        self.conv1 = nn.Conv2d(in_maps, 64, kernel_size=3,\n",
    "                               stride=1, padding=1, bias=False)\n",
    "        self.bn1 = nn.BatchNorm2d(64)\n",
    "        self.layer1 = self._make_layer(block, 64, num_blocks[0], stride=1)\n",
    "        self.layer2 = self._make_layer(block, 128, num_blocks[1], stride=2)\n",
    "        self.layer3 = self._make_layer(block, 256, num_blocks[2], stride=2)\n",
    "        self.layer4 = self._make_layer(block, 512, num_blocks[3], stride=2)\n",
    "        self.fc = nn.Linear(512*block.expansion, num_classes)\n",
    "        self.activ = nn.ReLU()\n",
    "\n",
    "    def _make_layer(self, block, planes, num_blocks, stride):\n",
    "        strides = [stride] + [1]*(num_blocks-1)\n",
    "        layers = []\n",
    "        for stride in strides:\n",
    "            layers.append(block(self.in_planes, planes, stride))\n",
    "            self.in_planes = planes * block.expansion\n",
    "        return nn.Sequential(*layers)\n",
    "\n",
    "    def forward(self, x):\n",
    "        #out = F.relu(self.bn1(self.conv1(x))) # For ResNet with BatchNorm layer\n",
    "        out = self.activ(self.conv1(x))\n",
    "        out = self.layer1([out, out])\n",
    "        out = self.layer2(out)\n",
    "        out_inter1 = self.layer3(out)\n",
    "        out = self.layer4(out_inter1)\n",
    "        out_inter1, out_inter2 = out_inter1[0], out[1]\n",
    "        out = out[0]\n",
    "        out = F.avg_pool2d(out, 4)\n",
    "        out = out.view(out.size(0), -1)\n",
    "        out = self.fc(out)\n",
    "        return self.activ(out), [out_inter1, out_inter2]\n",
    "\n",
    "class MyResNet(nn.Module):\n",
    "    def __init__(self, version='4', bn=False, n_classes=10, in_maps=1):\n",
    "        super(MyResNet, self).__init__()\n",
    "        self.convnet = ResNet_34(BasicBlock3, [2, 2, 2, 2], num_classes=n_classes, in_maps=in_maps)\n",
    "\n",
    "        num_ftrs = self.convnet.fc.in_features\n",
    "        self.fc2 = nn.Linear(num_ftrs, n_classes)\n",
    "        self.convnet.fc = nn.Linear(num_ftrs, num_ftrs) # 200 is the number of output classes in CUB_2011/200 dataset\n",
    "\n",
    "    def forward(self, inp):\n",
    "        output, output_intermediate = self.convnet(inp)     \n",
    "        return self.fc2(output), output_intermediate"
   ]
  },
  {
   "cell_type": "code",
   "execution_count": 6,
   "id": "47007921",
   "metadata": {},
   "outputs": [],
   "source": [
    "class attr_RN18_multi(nn.Module):\n",
    "    def __init__(self, out_size=49*2, in_maps1=256, in_maps2=512):\n",
    "        super(attr_RN18_multi, self).__init__()\n",
    "        self.conv1 = nn.Conv2d(in_maps1, 64, kernel_size=3, padding=1, stride=2)\n",
    "        self.conv2 = nn.Conv2d(in_maps2, 64, kernel_size=3, padding=1, stride=1)\n",
    "        self.conv3 = nn.Conv2d(128, 64, kernel_size=3, padding=1, stride=1)\n",
    "        self.bn1 = nn.BatchNorm2d(64)\n",
    "        self.fc1 = nn.Linear(64*3*3, out_size, bias=True)\n",
    "        #self.activ = nn.LeakyReLU()\n",
    "        self.activ = nn.ReLU()\n",
    "        self.pool = nn.AdaptiveAvgPool2d(3)\n",
    "\n",
    "    def forward(self, inter_list):\n",
    "        x1 = self.activ( self.conv1(inter_list[0]) )\n",
    "        x2 = self.activ( self.conv2(inter_list[1]) )\n",
    "        x = torch.cat((x1, x2), 1)\n",
    "        x = self.activ( self.conv3(x) )\n",
    "        x = self.pool(x).view(-1, 64*3*3)\n",
    "        #x = self.fc1(x) # Till model 9\n",
    "        #x = x.view(-1, 64*3*)\n",
    "        x = self.activ(self.fc1(x))\n",
    "        #x = self.fc1(x)\n",
    "        return x\n",
    "\n",
    "class decode_CIFAR(nn.Module):\n",
    "    def __init__(self, in_size=64*2):\n",
    "        super(decode_CIFAR, self).__init__()\n",
    "        self.fc1 = nn.Linear(in_size, 64*10, bias=True)\n",
    "        self.trconv1 = nn.ConvTranspose2d(10, 24, kernel_size=3, stride=2, padding=1, output_padding=1, bias=True)\n",
    "        self.trconv2 = nn.ConvTranspose2d(24, 8, kernel_size=3, stride=2, padding=1, output_padding=1, bias=True)\n",
    "        self.fc2 = nn.Linear(8*32*32, 3*32*32)\n",
    "        self.activ = nn.ReLU()\n",
    "\n",
    "    def forward(self, inp):\n",
    "        x = self.fc1(inp)\n",
    "        x = x.view(-1, 10, 8, 8)\n",
    "        x = self.activ( self.trconv1(x) )\n",
    "        x = self.activ( self.trconv2(x) )\n",
    "        x = x.view(-1, 8*32*32)\n",
    "        x = self.fc2(x).view(-1, 3, 32, 32)\n",
    "        return x\n",
    "    \n",
    "class explainer(nn.Module):\n",
    "    def __init__(self, in_size=30, max_elem=15, n_classes=200):\n",
    "        super(explainer, self).__init__()\n",
    "        self.max_elem = max_elem\n",
    "        self.fc1 = nn.Linear(in_size, n_classes, bias=True)\n",
    "        self.drop = nn.Dropout(0.01)\n",
    "\n",
    "    def forward(self, inp):\n",
    "        # Select the max elems by multiplying input by the appropriate tensor\n",
    "        x = self.drop(inp)\n",
    "        return self.fc1(x)"
   ]
  },
  {
   "cell_type": "code",
   "execution_count": 7,
   "id": "359604b6",
   "metadata": {},
   "outputs": [],
   "source": [
    "latent_size = 36\n",
    "f = MyResNet(version='34', bn=False, n_classes=10, in_maps=3).to(device)\n",
    "g = attr_RN18_multi(out_size=latent_size).to(device)\n",
    "d = decode_CIFAR(in_size=latent_size).to(device)\n",
    "h = explainer(in_size=latent_size, n_classes=10).to(device)\n",
    "optimizer = optim.Adam(itertools.chain(f.parameters(), g.parameters(), d.parameters(), h.parameters()), lr=0.0001)"
   ]
  },
  {
   "cell_type": "code",
   "execution_count": 8,
   "id": "d18e0477",
   "metadata": {},
   "outputs": [],
   "source": [
    "checkpoint1 = torch.load('output/' + dataset + '/cifar10_flint.pt', map_location='cpu') # For MNIST\n",
    "f.load_state_dict(checkpoint1['f_state_dict'])\n",
    "g.load_state_dict(checkpoint1['g_state_dict'])\n",
    "h.load_state_dict(checkpoint1['h_state_dict'])\n",
    "d.load_state_dict(checkpoint1['d_state_dict'])\n",
    "f, g, h, d = f.eval(), g.eval(), h.eval(), d.eval()"
   ]
  },
  {
   "cell_type": "code",
   "execution_count": 9,
   "id": "2ef45451",
   "metadata": {},
   "outputs": [
    {
     "name": "stdout",
     "output_type": "stream",
     "text": [
      "Accuracy of f (in %): 84.02\n",
      "Accuracy of g (in %): 84.33\n",
      "Fidelity of g (in %): 92.9\n"
     ]
    }
   ],
   "source": [
    "def analyze(f, g, h, d, device, test_loader, location):\n",
    "    f.eval(), g.eval(), h.eval(), d.eval()\n",
    "    f, g, h, d = f.to(device), g.to(device), h.to(device), d.to(device)\n",
    "    conf_matx_fy = np.zeros([10, 10]) # n_classes x n_classes\n",
    "    conf_matx_hf = np.zeros([10, 10])\n",
    "    conf_matx_hy = np.zeros([10, 10])\n",
    "    for batch_info in test_loader:\n",
    "        data, target = batch_info[0].to(device), batch_info[1].to(device)\n",
    "        output, inter = f(data)\n",
    "        embed = g(inter)\n",
    "        rec_data, expl = d(embed), h(embed)\n",
    "        pred_f = output.argmax(dim=1).cpu().data.numpy()\n",
    "        pred_h = expl.argmax(dim=1).cpu().data.numpy()\n",
    "        y = target.cpu().data.numpy()\n",
    "        for j in range(y.shape[0]):\n",
    "            conf_matx_fy[pred_f[j], y[j]] += 1\n",
    "            conf_matx_hf[pred_h[j], pred_f[j]] += 1\n",
    "            conf_matx_hy[pred_h[j], y[j]] += 1\n",
    "\n",
    "    return conf_matx_fy, conf_matx_hf, conf_matx_hy\n",
    "\n",
    "facc, fidelity, gacc = analyze(f, g, h, d, device, test_loader, '')\n",
    "print (\"Accuracy of f (in %):\", np.diag(facc).sum()*100/len(test_data))\n",
    "print (\"Accuracy of g (in %):\", np.diag(gacc).sum()*100/len(test_data))\n",
    "print (\"Fidelity of g (in %):\", np.diag(fidelity).sum()*100/len(test_data))"
   ]
  },
  {
   "cell_type": "markdown",
   "id": "55d0d493",
   "metadata": {},
   "source": [
    "## interpret of flint"
   ]
  },
  {
   "cell_type": "code",
   "execution_count": 10,
   "id": "2c411c66",
   "metadata": {},
   "outputs": [],
   "source": [
    "def collect_g_data(f, g, h, device, data, subset=False):\n",
    "    f.eval(), g.eval(), h.eval()\n",
    "    f, g, h = f.to(device), g.to(device), h.to(device)\n",
    "    weights = h.fc1.weight.cpu().data.numpy()\n",
    "    g_data = []\n",
    "    all_y = []\n",
    "    num_batch = 0\n",
    "    subset_data = []\n",
    "    expl_data = [] # Only append data in this if subset is true, else it'll possibly increase the time by a lot\n",
    "    expl_pred = []\n",
    "    if not subset:\n",
    "        dataloader = torch.utils.data.DataLoader(data, batch_size=16*4, shuffle=False, num_workers=64)\n",
    "    else:\n",
    "        dataloader = torch.utils.data.DataLoader(data, batch_size=20, shuffle=True, num_workers=20)\n",
    "    for batch_info in dataloader:\n",
    "        num_batch += 1\n",
    "        data, target = batch_info[0].to(device), batch_info[1].to(device)                                 \n",
    "        output, inter = f(data)\n",
    "        embed = g(inter)\n",
    "        expl = np.zeros(embed.shape)\n",
    "        pred = h(embed).argmax(dim=1).cpu().data.numpy()\n",
    "        g_data.append(embed.cpu().data.numpy())\n",
    "        all_y += list(target.cpu().data.numpy())\n",
    "        expl_pred += list(h(embed).argmax(dim=1).cpu().data.numpy())\n",
    "        if subset:\n",
    "            subset_data.append(data)\n",
    "            for i in range(pred.shape[0]):\n",
    "                expl[i] = embed[i].cpu().data.numpy() * weights[pred[i]]\n",
    "                expl[i] = expl[i]/expl[i].max()\n",
    "            expl_data.append(expl)\n",
    "            if num_batch > 50:\n",
    "                subset_data = torch.cat(subset_data).unsqueeze(dim=1) #unsqueeze is done to make code in save image functions compatible with shape of subset_data\n",
    "                break\n",
    "    g_data = np.concatenate(g_data)\n",
    "    if subset:\n",
    "        expl_data = np.concatenate(expl_data)\n",
    "    return g_data, np.array(all_y), subset_data, expl_data, np.array(expl_pred)"
   ]
  },
  {
   "cell_type": "code",
   "execution_count": 11,
   "id": "ebb77c8f",
   "metadata": {},
   "outputs": [
    {
     "name": "stdout",
     "output_type": "stream",
     "text": [
      "[1.3805, 1.746, 2.1102, 2.5044, 3.1895, 3.7965]\n"
     ]
    }
   ],
   "source": [
    "def sparse_sense(f, g, h, data, mults):\n",
    "    f, g, h = f.eval(), g.eval(), h.eval()\n",
    "    gdata = collect_g_data(f, g, h, device, data)[0]\n",
    "    pred = h(torch.tensor(gdata).to(device)).argmax(dim=1).cpu().data.numpy()\n",
    "    weights  = h.fc1.weight.cpu().data.numpy()\n",
    "    result = []\n",
    "    for multiplier in mults:\n",
    "        sparse = 0\n",
    "        for i in range(pred.shape[0]):\n",
    "            expl_vec = np.abs(gdata[i] * weights[pred[i]])\n",
    "            thresh = np.abs(expl_vec).max() / multiplier\n",
    "            sparse += np.sum(expl_vec > thresh)\n",
    "        #print (sparse/pred.shape[0])\n",
    "        result.append(sparse/pred.shape[0])\n",
    "    return result\n",
    "\n",
    "mults = [1.5, 2.0, 2.5, 3.0, 4.0, 5.0]\n",
    "conciseness = sparse_sense(f, g, h, test_data, mults)\n",
    "print (conciseness)\n"
   ]
  },
  {
   "cell_type": "code",
   "execution_count": 12,
   "id": "b7555f51",
   "metadata": {},
   "outputs": [],
   "source": [
    "def grad_inp_embed(f_gb, g, device, inp, embed_idx, dataset='mnist'):\n",
    "    # Computes appropriate saliency map for an attribute w.r.t input\n",
    "    # Assume inp of shape 1 x 28 x 28\n",
    "    g = g.eval()\n",
    "    inp = inp.unsqueeze(0)\n",
    "    g, inp = g.to(device), inp.to(device)\n",
    "    inp.requires_grad = True\n",
    "    if dataset == 'qdraw':\n",
    "        output, inter = f_gb.model(inp)\n",
    "    else:\n",
    "        output, inter = f_gb(inp)\n",
    "    if dataset == 'qdraw':\n",
    "        f_gb.model.zero_grad()\n",
    "    else:\n",
    "        f_gb.zero_grad()\n",
    "    embed = g(inter)\n",
    "    if dataset == 'mnist' or dataset == 'fmnist' or dataset == 'qdraw':\n",
    "        grad = torch.autograd.grad(embed[0, embed_idx], inp)[0][0, 0].cpu().data.numpy()\n",
    "    elif dataset == 'cifar10':\n",
    "        grad = torch.autograd.grad(embed[0, embed_idx], inp)[0][0].abs().sum(dim=0).cpu().data.numpy() # Add the code to shift axes, then remove this comment\n",
    "    #print (grad.shape)\n",
    "    return grad\n",
    "\n",
    "def optimize_inp(f, g, embed_idx, device, inp_shape=[1, 1, 28, 28], init=None, max_val=1.0, min_val=0.0, lmbd_tv=1.0, lmbd_bound=1.0, C=1.0, lmbd_l1=0):\n",
    "    # Function to run activation maximization with partial initialization\n",
    "    # initialize input with input shape and make requires_grad True\n",
    "    f, g = f.eval().to(device), g.eval().to(device) \n",
    "    inp = torch.empty(inp_shape).to(device)\n",
    "    if init is None:\n",
    "        #4.0 * (nn.init.uniform_(inp) - 0.5) # Initialization line\n",
    "        nn.init.uniform_(inp)\n",
    "    else:\n",
    "        inp = 1.0 * init\n",
    "    inp.requires_grad = True\n",
    "    new_lr = 0.05\n",
    "    inp.to(device)\n",
    "    for epoch in range(6):\n",
    "        #optimizer = optim.SGD([inp], lr=new_lr, momentum=0.9)\n",
    "        optimizer = optim.Adam([inp], lr=new_lr)\n",
    "        new_lr = new_lr/2\n",
    "        for i in range(50):\n",
    "            optimizer.zero_grad()\n",
    "            output, inter = f(inp)\n",
    "            embed = g(inter)\n",
    "\n",
    "            loss_l1 = (inp.abs()).mean()\n",
    "            loss_bound = (( (inp > max_val).float() + (inp < min_val).float() )*(inp.abs())).mean()\n",
    "            loss_tv = (inp[:, :, 0:inp_shape[2]-1, :] - inp[:, :, 1:inp_shape[2], :]).abs().mean() + (inp[:, :, :, 0:inp_shape[3]-1] - inp[:, :, :, 1:inp_shape[3]]).abs().mean()\n",
    "            loss = C*embed[:, embed_idx].sum() - lmbd_l1 * loss_l1 - lmbd_bound * loss_bound - lmbd_tv * loss_tv\n",
    "\n",
    "            loss.backward()\n",
    "            inp.grad = -1 * inp.grad\n",
    "            optimizer.step()\n",
    "            if (i % 51 == 0 and i == 3):\n",
    "                print (epoch, loss.item(), embed[:, embed_idx].sum(), loss_l1.item(), loss_bound.item(), loss_tv.item())\n",
    "    return inp.cpu().data.numpy()\n",
    "\n",
    "def save_expl_images_class_cifar(indices, data, gdata, f, f_copy, g, device, dataset, model_name='', d=None):\n",
    "    # This function assumed specific shape of indices\n",
    "    if dataset == 'qdraw' or dataset == 'cifar10':\n",
    "        f_gb = gb.GuidedBackprop(f)\n",
    "    else:\n",
    "        f_gb = f\n",
    "    f_copy = f_copy.eval()\n",
    "    for i in range(indices.shape[2]): # Fixing the attribute (coordinate of attribute vector)\n",
    "        for j in range(indices.shape[0]): # Fixing the class\n",
    "            for k in range(indices.shape[1]):\n",
    "                if indices[j, k, i] == -1:\n",
    "                    continue\n",
    "                img = unnorm(data[indices[j, k, i]][0].cpu().data.numpy(), norm_mean, norm_std)\n",
    "                init_img = 0.4*data[indices[j, k, i]] \n",
    "                cur_img = optimize_inp(f_copy, g, i, device, list(init_img.shape), max_val=2.5, min_val=-2.5, init=init_img, lmbd_bound=20.0, lmbd_tv=20.0, C=2.0, lmbd_l1=0.0)\n",
    "                grad = grad_inp_embed(f_gb, g, device, data[indices[j, k, i]][0], i, dataset=dataset)\n",
    "                #if gdata[indices[j, k, i], i] < gdata[:, i].max()/4.0:\n",
    "                    #continue\n",
    "                fig = plt.figure()\n",
    "                fig.add_subplot(1, 2, 1)\n",
    "                plt.imshow(img)\n",
    "                plt.axis('off')\n",
    "                #fig.add_subplot(1, 5, 2)\n",
    "                #plt.imshow(grad)\n",
    "                #plt.axis('off')\n",
    "                #fig.add_subplot(1, 5, 3)\n",
    "                #attr = g(f(data[indices[j, k, i]][0].unsqueeze(0))[1])\n",
    "                ######attr[:, i] = 0\n",
    "                #plt.imshow(unnorm(d(attr)[0].cpu().data.numpy(), norm_mean, norm_std))\n",
    "                #plt.axis('off')\n",
    "                #attr[:, i] = 0\n",
    "                #fig.add_subplot(1, 5, 4)\n",
    "                #plt.imshow(unnorm(d(attr)[0].cpu().data.numpy(), norm_mean, norm_std))\n",
    "                #plt.axis('off')\n",
    "                fig.add_subplot(1, 2, 2)\n",
    "                plt.imshow(unnorm(cur_img[0], norm_mean, norm_std).mean(axis=2) )\n",
    "                plt.axis('off')\n",
    "                #fig.add_subplot(1, 6, 6)\n",
    "                #plt.imshow(unnorm(cur_img[0], np.array([0.0, 0.0, 0.0]), np.array([1.0, 1.0, 1.0])) )\n",
    "                #plt.axis('off')\n",
    "                fig.subplots_adjust(wspace=0.04) \n",
    "                plt.savefig('output/' + dataset + '_output/explanation_images_' + model_name  + '/attr' + str(i) + '_class' + str(j) + '_' + str(k), bbox_inches='tight', pad_inches = 0.03)\n",
    "                plt.close()\n",
    "                \n",
    "    return\n"
   ]
  },
  {
   "cell_type": "code",
   "execution_count": 13,
   "id": "c122fc95",
   "metadata": {},
   "outputs": [],
   "source": [
    "def extract_attr_class_max(gdata, all_y, expl_data, expl_pred, n_idx=1, thresh=0.1):\n",
    "    n_class = all_y.max() + 1\n",
    "    indices = np.zeros([n_class, n_idx, gdata.shape[1]])\n",
    "    true_max = np.max(gdata, axis=0)\n",
    "    for i in range(n_class):\n",
    "        pos_arr = np.where(all_y == i)[0]\n",
    "        gdata_class = gdata[pos_arr] # Data for the ith class\n",
    "        local_idx = np.argsort(-gdata_class, axis=0)[:n_idx] \n",
    "        indices[i] = pos_arr[local_idx]\n",
    "    if len(expl_data > 0):\n",
    "        indices2 = np.zeros([n_class, n_idx, gdata.shape[1]]) - 1\n",
    "        expl_class = np.zeros([n_class, gdata.shape[1]])\n",
    "        for i in range(n_class):\n",
    "            pos_arr = np.where(expl_pred == i)[0]\n",
    "            expl_class[i] = expl_data[pos_arr].mean(axis=0)\n",
    "            select_attr = np.where(expl_class[i] > thresh)[0]\n",
    "            for attr in select_attr:\n",
    "                indices2[i, :, attr] = indices[i, :, attr]\n",
    "        return indices2.astype(int), expl_class \n",
    "    return indices.astype(int)"
   ]
  },
  {
   "cell_type": "code",
   "execution_count": 14,
   "id": "4bd20f09",
   "metadata": {},
   "outputs": [
    {
     "name": "stdout",
     "output_type": "stream",
     "text": [
      "Generating explanations\n",
      "Collecting attribute vectors on random subset of the given data\n",
      "Writing images in an old folder. May overwrite some files\n",
      "Saving images\n"
     ]
    }
   ],
   "source": [
    "def generate_model_explanations(f, g, h, d, data, device, dataset, model_name='', subset=False):\n",
    "    if not subset:\n",
    "        print ('Collecting attribute vectors on the given data')\n",
    "    else:\n",
    "        print ('Collecting attribute vectors on random subset of the given data')\n",
    "    gdata, all_y, subset_data, expl_data, expl_pred = collect_g_data(f, g, h, device, data, subset=subset)\n",
    "    indices2, rel = extract_attr_class_max(gdata, all_y, expl_data, expl_pred, 3, thresh=0.1)\n",
    "    try:\n",
    "        os.mkdir('output/' + dataset + '_output/explanation_images_' + str(model_name))\t\n",
    "        #os.mkdir('output/' + dataset + '_output/explanation_images_' + str(model_name) + '/inp_optimize')\n",
    "    except:\n",
    "        print ('Writing images in an old folder. May overwrite some files')\n",
    "    print ('Saving images')\n",
    "    if not subset:\n",
    "        subset_data = data\n",
    "    f_copy = MyResNet(version='34', bn=False, n_classes=10, in_maps=3).to(device)\n",
    "    f_copy.load_state_dict(checkpoint1['f_state_dict'])\n",
    "    \n",
    "    #save_expl_images_class(indices2, subset_data, gdata, f, f_copy, g, device, dataset, str(model_name), d)\n",
    "    return rel\n",
    "\n",
    "print ('Generating explanations')\n",
    "global_rel = generate_model_explanations(f, g, h, d, train_data, device, dataset, model_name='sample_model', subset=True)"
   ]
  },
  {
   "cell_type": "code",
   "execution_count": 15,
   "id": "64637a1f",
   "metadata": {},
   "outputs": [
    {
     "name": "stdout",
     "output_type": "stream",
     "text": [
      "(10, 36)\n"
     ]
    },
    {
     "data": {
      "image/png": "[encoded data removed]",
      "text/plain": [
       "<Figure size 720x720 with 2 Axes>"
      ]
     },
     "metadata": {
      "needs_background": "light"
     },
     "output_type": "display_data"
    }
   ],
   "source": [
    "print(global_rel.shape)\n",
    "def plot_rel(rel, dataset):\n",
    "    rel2 = 1.0*rel\n",
    "    class_name = classes\n",
    "    x_pos = np.array(range(rel.shape[1])).astype(str)\n",
    "    x_pos = np.array(['$\\phi_{'+i+'}$' for i in x_pos])\n",
    "    x_pos_int = np.array([i for i in np.array(range(rel.shape[1]))])\n",
    "\n",
    "    plt.figure(figsize=(10, 10))\n",
    "    plt.imshow(rel.T, cmap='hot', aspect=0.6)\n",
    "    plt.xticks(list(range(rel.shape[0])), class_name, fontsize=15, rotation=45)   \n",
    "    plt.yticks(list(range(rel.shape[1])), range(rel.shape[1]), fontsize=12, rotation=0)\n",
    "    plt.ylabel('Attribute number', fontsize=20)\n",
    "    plt.title('Class-attribute relevances', fontsize=21)\n",
    "    plt.colorbar()\n",
    "    plt.show()\n",
    "    \n",
    "    return\n",
    "plot_rel(global_rel, 'mnist')"
   ]
  },
  {
   "cell_type": "code",
   "execution_count": 16,
   "id": "78d53869",
   "metadata": {},
   "outputs": [
    {
     "name": "stdout",
     "output_type": "stream",
     "text": [
      "Predicted class: truck\n"
     ]
    },
    {
     "data": {
      "image/png": "[encoded data removed]",
      "text/plain": [
       "<Figure size 864x360 with 2 Axes>"
      ]
     },
     "metadata": {
      "needs_background": "light"
     },
     "output_type": "display_data"
    },
    {
     "data": {
      "image/png": "[encoded data removed]",
      "text/plain": [
       "<Figure size 864x360 with 3 Axes>"
      ]
     },
     "metadata": {
      "needs_background": "light"
     },
     "output_type": "display_data"
    }
   ],
   "source": [
    "def analyze_img(f, g, h, d, idx, n_attr=3, save=False, location=None):\n",
    "    f_copy, g, d = f.eval(), g.eval(), d.eval()\n",
    "    f_copy, g, d = f_copy.to(device), g.to(device), d.to(device)\n",
    "    init_img = test_data[idx][0].unsqueeze(0)\n",
    "\n",
    "    init_shape = init_img.shape\n",
    "    img = init_img[0, 0].cpu().data.numpy()\n",
    "\n",
    "    # Complete the computations\n",
    "    init_img=init_img.to(device)\n",
    "    output, inter = f_copy(init_img)\n",
    "    embed1 = g(inter)\n",
    "    weights = h.fc1.weight.cpu().data.numpy()\n",
    "    pred = h(embed1).argmax(dim=1).cpu().data.numpy()\n",
    "    print (\"Predicted class:\", classes[pred[0]])\n",
    "    expl1 = embed1[0].cpu().data.numpy() * weights[pred[0]]\n",
    "    expl1 = expl1 / np.abs(expl1).max()\n",
    "    attr_idx1 = expl1.argsort()[-1]\n",
    "    attr_idx2 = expl1.argsort()[-2]\n",
    "    attr_idx3 = expl1.argsort()[-3]\n",
    "    cur_img1 = optimize_inp(f_copy, g, attr_idx1, device, list(init_img.shape), init=0.2*init_img, lmbd_bound=10.0, lmbd_tv=6.0, C=2.0, lmbd_l1=0.0)\n",
    "    cur_img2 = optimize_inp(f_copy, g, attr_idx2, device, list(init_img.shape), init=0.2*init_img, lmbd_bound=10.0, lmbd_tv=6.0, C=2.0, lmbd_l1=0.0)\n",
    "    cur_img3 = optimize_inp(f_copy, g, attr_idx3, device, list(init_img.shape), init=0.2*init_img, lmbd_bound=10.0, lmbd_tv=6.0, C=2.0, lmbd_l1=0.0)\n",
    "\n",
    "    # Make the plot\n",
    "    fig = plt.figure(figsize=(12, 5))\n",
    "    fig.add_subplot(1, 2, 1)\n",
    "    plt.imshow(img)\n",
    "    #plt.title('Input sample', fontsize=28)\n",
    "    plt.axis('off')\n",
    "\n",
    "    fig.add_subplot(1, 2, 2)\n",
    "    x_pos = np.array(range(expl1.shape[0])).astype(str)\n",
    "    x_pos = np.array(['$\\phi_{'+i+'}$' for i in x_pos])\n",
    "    plt.bar(list(range(n_attr)), -1*np.sort(-1*expl1)[:n_attr], color='green')\n",
    "    plt.xticks(list(range(n_attr)), x_pos[np.array([attr_idx1, attr_idx2, attr_idx3])], fontsize=32)\n",
    "    plt.yticks([0, 0.5, 1], [0.0, 0.5, 1.0], fontsize=23)\n",
    "    plt.ylabel('Relevance to prediction', fontsize=24)\n",
    "    #plt.subplots_adjust(wspace=0.05)\n",
    "    if not save:\n",
    "        plt.show()\n",
    "    else:\n",
    "        plt.savefig(location + '/s' + str(idx) + '_rel_')\n",
    "        plt.close()\n",
    "\n",
    "    fig = plt.figure(figsize=(12, 5))\n",
    "    fig.add_subplot(1, 3, 1)\n",
    "    plt.imshow(cur_img1[0, 0])\n",
    "    plt.axis('off')\n",
    "    plt.title('$\\phi_{'+str(attr_idx1)+'}$', fontsize=32)\n",
    "    fig.add_subplot(1, 3, 2)\n",
    "    plt.imshow(cur_img2[0, 0])\n",
    "    plt.axis('off')\n",
    "    plt.title('$\\phi_{'+str(attr_idx2)+'}$', fontsize=32)\n",
    "    fig.add_subplot(1, 3, 3)\n",
    "    plt.imshow(cur_img3[0, 0])\n",
    "    plt.axis('off')\n",
    "    plt.title('$\\phi_{'+str(attr_idx3)+'}$', fontsize=32)\n",
    "    plt.subplots_adjust(wspace=0.05)\n",
    "    if not save:\n",
    "        plt.show()\n",
    "    else:\n",
    "        plt.savefig(location + '/s' + str(idx) + '_att3_')\n",
    "        plt.close()\n",
    " \n",
    "    return cur_img1, cur_img2\n",
    "\n",
    "im1, im2 = analyze_img(f, g, h, d, 11, n_attr=3, save=False, location=None)\n"
   ]
  },
  {
   "cell_type": "markdown",
   "id": "189ec362",
   "metadata": {},
   "source": [
    "### Try to copy f to use gradient"
   ]
  },
  {
   "cell_type": "code",
   "execution_count": 17,
   "id": "102d31b1",
   "metadata": {},
   "outputs": [],
   "source": [
    "class BasicBlock3(nn.Module):\n",
    "    expansion = 1\n",
    "\n",
    "    def __init__(self, in_planes, planes, stride=1):\n",
    "        super(BasicBlock3, self).__init__()\n",
    "        self.conv1 = nn.Conv2d(\n",
    "            in_planes, planes, kernel_size=3, stride=stride, padding=1, bias=False)\n",
    "        self.activ = nn.ReLU()\n",
    "        self.conv2 = nn.Conv2d(planes, planes, kernel_size=3,\n",
    "                               stride=1, padding=1, bias=False)\n",
    "\n",
    "        self.shortcut = nn.Sequential()\n",
    "        if stride != 1 or in_planes != self.expansion*planes:\n",
    "            self.shortcut = nn.Sequential(\n",
    "                nn.Conv2d(in_planes, self.expansion*planes,\n",
    "                          kernel_size=1, stride=stride, bias=False)\n",
    "            )\n",
    "\n",
    "    def forward(self, x):\n",
    "        out = self.activ(self.conv1(x[0]))\n",
    "        out = self.conv2(out)\n",
    "        out += self.shortcut(x[0])\n",
    "        out = self.activ(out)\n",
    "        return [out, x[0]]\n",
    "\n",
    "class ResNet_34(nn.Module):\n",
    "    def __init__(self, block, num_blocks, num_classes=10, in_maps=1):\n",
    "        super(ResNet_34, self).__init__()\n",
    "        self.in_planes = 64\n",
    "\n",
    "        self.conv1 = nn.Conv2d(in_maps, 64, kernel_size=3,\n",
    "                               stride=1, padding=1, bias=False)\n",
    "        self.bn1 = nn.BatchNorm2d(64)\n",
    "        self.layer1 = self._make_layer(block, 64, num_blocks[0], stride=1)\n",
    "        self.layer2 = self._make_layer(block, 128, num_blocks[1], stride=2)\n",
    "        self.layer3 = self._make_layer(block, 256, num_blocks[2], stride=2)\n",
    "        self.layer4 = self._make_layer(block, 512, num_blocks[3], stride=2)\n",
    "        self.fc = nn.Linear(512*block.expansion, num_classes)\n",
    "        self.activ = nn.ReLU()\n",
    "\n",
    "    def _make_layer(self, block, planes, num_blocks, stride):\n",
    "        strides = [stride] + [1]*(num_blocks-1)\n",
    "        layers = []\n",
    "        for stride in strides:\n",
    "            layers.append(block(self.in_planes, planes, stride))\n",
    "            self.in_planes = planes * block.expansion\n",
    "        return nn.Sequential(*layers)\n",
    "\n",
    "    def forward(self, x):\n",
    "        #out = F.relu(self.bn1(self.conv1(x))) # For ResNet with BatchNorm layer\n",
    "        out = self.activ(self.conv1(x))\n",
    "        out = self.layer1([out, out])\n",
    "        out = self.layer2(out)\n",
    "        out_inter1 = self.layer3(out)\n",
    "        out = self.layer4(out_inter1)\n",
    "        out_inter1, out_inter2 = out_inter1[0], out[1]\n",
    "        out = out[0]\n",
    "        out = F.avg_pool2d(out, 4)\n",
    "        out = out.view(out.size(0), -1)\n",
    "        out = self.fc(out)\n",
    "        return self.activ(out)\n",
    "\n",
    "class MyResNet(nn.Module):\n",
    "    def __init__(self, version='4', bn=False, n_classes=10, in_maps=1):\n",
    "        super(MyResNet, self).__init__()\n",
    "        self.convnet = ResNet_34(BasicBlock3, [2, 2, 2, 2], num_classes=n_classes, in_maps=in_maps)\n",
    "\n",
    "        num_ftrs = self.convnet.fc.in_features\n",
    "        self.fc2 = nn.Linear(num_ftrs, n_classes)\n",
    "        self.convnet.fc = nn.Linear(num_ftrs, num_ftrs) # 200 is the number of output classes in CUB_2011/200 dataset\n",
    "\n",
    "    def forward(self, inp):\n",
    "        output = self.convnet(inp)     \n",
    "        return self.fc2(output)"
   ]
  },
  {
   "cell_type": "code",
   "execution_count": 18,
   "id": "ec028e0d",
   "metadata": {},
   "outputs": [
    {
     "data": {
      "text/plain": [
       "<All keys matched successfully>"
      ]
     },
     "execution_count": 18,
     "metadata": {},
     "output_type": "execute_result"
    }
   ],
   "source": [
    "f_copy = f = MyResNet(version='34', bn=False, n_classes=10, in_maps=3).to(device)\n",
    "f_copy.load_state_dict(checkpoint1['f_state_dict'])"
   ]
  },
  {
   "cell_type": "code",
   "execution_count": 19,
   "id": "57147c0f",
   "metadata": {},
   "outputs": [],
   "source": [
    "dataiter = iter(test_loader)\n",
    "images, labels = dataiter.next()\n",
    "out = f_copy(images.to(device))"
   ]
  },
  {
   "cell_type": "code",
   "execution_count": 20,
   "id": "56409f16",
   "metadata": {},
   "outputs": [
    {
     "data": {
      "text/plain": [
       "MyResNet(\n",
       "  (convnet): ResNet_34(\n",
       "    (conv1): Conv2d(3, 64, kernel_size=(3, 3), stride=(1, 1), padding=(1, 1), bias=False)\n",
       "    (bn1): BatchNorm2d(64, eps=1e-05, momentum=0.1, affine=True, track_running_stats=True)\n",
       "    (layer1): Sequential(\n",
       "      (0): BasicBlock3(\n",
       "        (conv1): Conv2d(64, 64, kernel_size=(3, 3), stride=(1, 1), padding=(1, 1), bias=False)\n",
       "        (activ): ReLU()\n",
       "        (conv2): Conv2d(64, 64, kernel_size=(3, 3), stride=(1, 1), padding=(1, 1), bias=False)\n",
       "        (shortcut): Sequential()\n",
       "      )\n",
       "      (1): BasicBlock3(\n",
       "        (conv1): Conv2d(64, 64, kernel_size=(3, 3), stride=(1, 1), padding=(1, 1), bias=False)\n",
       "        (activ): ReLU()\n",
       "        (conv2): Conv2d(64, 64, kernel_size=(3, 3), stride=(1, 1), padding=(1, 1), bias=False)\n",
       "        (shortcut): Sequential()\n",
       "      )\n",
       "    )\n",
       "    (layer2): Sequential(\n",
       "      (0): BasicBlock3(\n",
       "        (conv1): Conv2d(64, 128, kernel_size=(3, 3), stride=(2, 2), padding=(1, 1), bias=False)\n",
       "        (activ): ReLU()\n",
       "        (conv2): Conv2d(128, 128, kernel_size=(3, 3), stride=(1, 1), padding=(1, 1), bias=False)\n",
       "        (shortcut): Sequential(\n",
       "          (0): Conv2d(64, 128, kernel_size=(1, 1), stride=(2, 2), bias=False)\n",
       "        )\n",
       "      )\n",
       "      (1): BasicBlock3(\n",
       "        (conv1): Conv2d(128, 128, kernel_size=(3, 3), stride=(1, 1), padding=(1, 1), bias=False)\n",
       "        (activ): ReLU()\n",
       "        (conv2): Conv2d(128, 128, kernel_size=(3, 3), stride=(1, 1), padding=(1, 1), bias=False)\n",
       "        (shortcut): Sequential()\n",
       "      )\n",
       "    )\n",
       "    (layer3): Sequential(\n",
       "      (0): BasicBlock3(\n",
       "        (conv1): Conv2d(128, 256, kernel_size=(3, 3), stride=(2, 2), padding=(1, 1), bias=False)\n",
       "        (activ): ReLU()\n",
       "        (conv2): Conv2d(256, 256, kernel_size=(3, 3), stride=(1, 1), padding=(1, 1), bias=False)\n",
       "        (shortcut): Sequential(\n",
       "          (0): Conv2d(128, 256, kernel_size=(1, 1), stride=(2, 2), bias=False)\n",
       "        )\n",
       "      )\n",
       "      (1): BasicBlock3(\n",
       "        (conv1): Conv2d(256, 256, kernel_size=(3, 3), stride=(1, 1), padding=(1, 1), bias=False)\n",
       "        (activ): ReLU()\n",
       "        (conv2): Conv2d(256, 256, kernel_size=(3, 3), stride=(1, 1), padding=(1, 1), bias=False)\n",
       "        (shortcut): Sequential()\n",
       "      )\n",
       "    )\n",
       "    (layer4): Sequential(\n",
       "      (0): BasicBlock3(\n",
       "        (conv1): Conv2d(256, 512, kernel_size=(3, 3), stride=(2, 2), padding=(1, 1), bias=False)\n",
       "        (activ): ReLU()\n",
       "        (conv2): Conv2d(512, 512, kernel_size=(3, 3), stride=(1, 1), padding=(1, 1), bias=False)\n",
       "        (shortcut): Sequential(\n",
       "          (0): Conv2d(256, 512, kernel_size=(1, 1), stride=(2, 2), bias=False)\n",
       "        )\n",
       "      )\n",
       "      (1): BasicBlock3(\n",
       "        (conv1): Conv2d(512, 512, kernel_size=(3, 3), stride=(1, 1), padding=(1, 1), bias=False)\n",
       "        (activ): ReLU()\n",
       "        (conv2): Conv2d(512, 512, kernel_size=(3, 3), stride=(1, 1), padding=(1, 1), bias=False)\n",
       "        (shortcut): Sequential()\n",
       "      )\n",
       "    )\n",
       "    (fc): Linear(in_features=512, out_features=512, bias=True)\n",
       "    (activ): ReLU()\n",
       "  )\n",
       "  (fc2): Linear(in_features=512, out_features=10, bias=True)\n",
       ")"
      ]
     },
     "execution_count": 20,
     "metadata": {},
     "output_type": "execute_result"
    }
   ],
   "source": [
    "f"
   ]
  },
  {
   "cell_type": "code",
   "execution_count": 21,
   "id": "e1bbbd56",
   "metadata": {},
   "outputs": [
    {
     "data": {
      "text/plain": [
       "MyResNet(\n",
       "  (convnet): ResNet_34(\n",
       "    (conv1): Conv2d(3, 64, kernel_size=(3, 3), stride=(1, 1), padding=(1, 1), bias=False)\n",
       "    (bn1): BatchNorm2d(64, eps=1e-05, momentum=0.1, affine=True, track_running_stats=True)\n",
       "    (layer1): Sequential(\n",
       "      (0): BasicBlock3(\n",
       "        (conv1): Conv2d(64, 64, kernel_size=(3, 3), stride=(1, 1), padding=(1, 1), bias=False)\n",
       "        (activ): ReLU()\n",
       "        (conv2): Conv2d(64, 64, kernel_size=(3, 3), stride=(1, 1), padding=(1, 1), bias=False)\n",
       "        (shortcut): Sequential()\n",
       "      )\n",
       "      (1): BasicBlock3(\n",
       "        (conv1): Conv2d(64, 64, kernel_size=(3, 3), stride=(1, 1), padding=(1, 1), bias=False)\n",
       "        (activ): ReLU()\n",
       "        (conv2): Conv2d(64, 64, kernel_size=(3, 3), stride=(1, 1), padding=(1, 1), bias=False)\n",
       "        (shortcut): Sequential()\n",
       "      )\n",
       "    )\n",
       "    (layer2): Sequential(\n",
       "      (0): BasicBlock3(\n",
       "        (conv1): Conv2d(64, 128, kernel_size=(3, 3), stride=(2, 2), padding=(1, 1), bias=False)\n",
       "        (activ): ReLU()\n",
       "        (conv2): Conv2d(128, 128, kernel_size=(3, 3), stride=(1, 1), padding=(1, 1), bias=False)\n",
       "        (shortcut): Sequential(\n",
       "          (0): Conv2d(64, 128, kernel_size=(1, 1), stride=(2, 2), bias=False)\n",
       "        )\n",
       "      )\n",
       "      (1): BasicBlock3(\n",
       "        (conv1): Conv2d(128, 128, kernel_size=(3, 3), stride=(1, 1), padding=(1, 1), bias=False)\n",
       "        (activ): ReLU()\n",
       "        (conv2): Conv2d(128, 128, kernel_size=(3, 3), stride=(1, 1), padding=(1, 1), bias=False)\n",
       "        (shortcut): Sequential()\n",
       "      )\n",
       "    )\n",
       "    (layer3): Sequential(\n",
       "      (0): BasicBlock3(\n",
       "        (conv1): Conv2d(128, 256, kernel_size=(3, 3), stride=(2, 2), padding=(1, 1), bias=False)\n",
       "        (activ): ReLU()\n",
       "        (conv2): Conv2d(256, 256, kernel_size=(3, 3), stride=(1, 1), padding=(1, 1), bias=False)\n",
       "        (shortcut): Sequential(\n",
       "          (0): Conv2d(128, 256, kernel_size=(1, 1), stride=(2, 2), bias=False)\n",
       "        )\n",
       "      )\n",
       "      (1): BasicBlock3(\n",
       "        (conv1): Conv2d(256, 256, kernel_size=(3, 3), stride=(1, 1), padding=(1, 1), bias=False)\n",
       "        (activ): ReLU()\n",
       "        (conv2): Conv2d(256, 256, kernel_size=(3, 3), stride=(1, 1), padding=(1, 1), bias=False)\n",
       "        (shortcut): Sequential()\n",
       "      )\n",
       "    )\n",
       "    (layer4): Sequential(\n",
       "      (0): BasicBlock3(\n",
       "        (conv1): Conv2d(256, 512, kernel_size=(3, 3), stride=(2, 2), padding=(1, 1), bias=False)\n",
       "        (activ): ReLU()\n",
       "        (conv2): Conv2d(512, 512, kernel_size=(3, 3), stride=(1, 1), padding=(1, 1), bias=False)\n",
       "        (shortcut): Sequential(\n",
       "          (0): Conv2d(256, 512, kernel_size=(1, 1), stride=(2, 2), bias=False)\n",
       "        )\n",
       "      )\n",
       "      (1): BasicBlock3(\n",
       "        (conv1): Conv2d(512, 512, kernel_size=(3, 3), stride=(1, 1), padding=(1, 1), bias=False)\n",
       "        (activ): ReLU()\n",
       "        (conv2): Conv2d(512, 512, kernel_size=(3, 3), stride=(1, 1), padding=(1, 1), bias=False)\n",
       "        (shortcut): Sequential()\n",
       "      )\n",
       "    )\n",
       "    (fc): Linear(in_features=512, out_features=512, bias=True)\n",
       "    (activ): ReLU()\n",
       "  )\n",
       "  (fc2): Linear(in_features=512, out_features=10, bias=True)\n",
       ")"
      ]
     },
     "execution_count": 21,
     "metadata": {},
     "output_type": "execute_result"
    }
   ],
   "source": [
    "f_copy"
   ]
  },
  {
   "cell_type": "code",
   "execution_count": 22,
   "id": "a838b514",
   "metadata": {},
   "outputs": [
    {
     "data": {
      "text/plain": [
       "True"
      ]
     },
     "execution_count": 22,
     "metadata": {},
     "output_type": "execute_result"
    }
   ],
   "source": [
    "f == f_copy"
   ]
  },
  {
   "cell_type": "markdown",
   "id": "eb594551",
   "metadata": {},
   "source": [
    "## captum on flint"
   ]
  },
  {
   "cell_type": "code",
   "execution_count": 23,
   "id": "7b34d91a",
   "metadata": {},
   "outputs": [],
   "source": [
    "import torch\n",
    "import torch.nn.functional as F\n",
    "\n",
    "torch.cuda.empty_cache()\n",
    "# import gc\n",
    "# del variables\n",
    "# gc.collect()\n",
    "\n",
    "from PIL import Image\n",
    "\n",
    "import os\n",
    "import json\n",
    "import numpy as np\n",
    "from matplotlib.colors import LinearSegmentedColormap\n",
    "\n",
    "import torchvision\n",
    "from torchvision import models\n",
    "from torchvision import datasets, transforms, models\n",
    "\n",
    "from captum.attr import IntegratedGradients\n",
    "from captum.attr import GradientShap\n",
    "from captum.attr import NeuronConductance\n",
    "from captum.attr import Occlusion\n",
    "from captum.attr import NoiseTunnel\n",
    "from captum.attr import Saliency\n",
    "from captum.attr import DeepLift\n",
    "from captum.attr import DeepLiftShap\n",
    "from captum.attr import visualization as viz"
   ]
  },
  {
   "cell_type": "code",
   "execution_count": 24,
   "id": "3aae1a31",
   "metadata": {},
   "outputs": [],
   "source": [
    "# model = models.resnet18(pretrained=True)\n",
    "# model = model.eval()"
   ]
  },
  {
   "cell_type": "code",
   "execution_count": 25,
   "id": "a3b89f2d",
   "metadata": {},
   "outputs": [],
   "source": [
    "# !wget -P $HOME/.torch/models https://s3.amazonaws.com/deep-learning-models/image-models/imagenet_class_index.json"
   ]
  },
  {
   "cell_type": "code",
   "execution_count": 26,
   "id": "862a7816",
   "metadata": {},
   "outputs": [],
   "source": [
    "# labels_path = os.getenv(\"HOME\") + '/.torch/models/imagenet_class_index.json'\n",
    "# with open(labels_path) as json_data:\n",
    "#     idx_to_labels = json.load(json_data)"
   ]
  },
  {
   "cell_type": "code",
   "execution_count": 27,
   "id": "b287e1fa",
   "metadata": {},
   "outputs": [],
   "source": [
    "# list(idx_to_labels.values())"
   ]
  },
  {
   "cell_type": "code",
   "execution_count": 28,
   "id": "c74efe8e",
   "metadata": {},
   "outputs": [
    {
     "ename": "NameError",
     "evalue": "name 'root' is not defined",
     "output_type": "error",
     "traceback": [
      "\u001b[0;31m---------------------------------------------------------------------------\u001b[0m",
      "\u001b[0;31mNameError\u001b[0m                                 Traceback (most recent call last)",
      "\u001b[0;32m<ipython-input-28-8d4c841771a7>\u001b[0m in \u001b[0;36m<module>\u001b[0;34m\u001b[0m\n\u001b[1;32m      1\u001b[0m \u001b[0;31m# root = \"./img/resnet\"\u001b[0m\u001b[0;34m\u001b[0m\u001b[0;34m\u001b[0m\u001b[0;34m\u001b[0m\u001b[0m\n\u001b[0;32m----> 2\u001b[0;31m \u001b[0mdataset\u001b[0m \u001b[0;34m=\u001b[0m \u001b[0mdatasets\u001b[0m\u001b[0;34m.\u001b[0m\u001b[0mCIFAR10\u001b[0m\u001b[0;34m(\u001b[0m\u001b[0mroot\u001b[0m\u001b[0;34m,\u001b[0m \u001b[0mtrain\u001b[0m \u001b[0;34m=\u001b[0m \u001b[0;32mTrue\u001b[0m\u001b[0;34m,\u001b[0m \u001b[0mtransform\u001b[0m \u001b[0;34m=\u001b[0m \u001b[0;32mNone\u001b[0m\u001b[0;34m,\u001b[0m \u001b[0mtarget_transform\u001b[0m \u001b[0;34m=\u001b[0m \u001b[0;32mNone\u001b[0m\u001b[0;34m,\u001b[0m \u001b[0mdownload\u001b[0m \u001b[0;34m=\u001b[0m \u001b[0;32mTrue\u001b[0m\u001b[0;34m)\u001b[0m\u001b[0;34m\u001b[0m\u001b[0;34m\u001b[0m\u001b[0m\n\u001b[0m",
      "\u001b[0;31mNameError\u001b[0m: name 'root' is not defined"
     ]
    }
   ],
   "source": [
    "# root = \"./img/resnet\"\n",
    "dataset = datasets.CIFAR10(root, train = True, transform = None, target_transform = None, download = True)"
   ]
  },
  {
   "cell_type": "code",
   "execution_count": null,
   "id": "cf4e42a1",
   "metadata": {},
   "outputs": [],
   "source": [
    "# transform = transforms.Compose([\n",
    "#  transforms.Resize(256),\n",
    "#  transforms.CenterCrop(224),\n",
    "#  transforms.ToTensor()\n",
    "# ])\n",
    "\n",
    "# transform_normalize = transforms.Normalize(\n",
    "#      mean=[0.485, 0.456, 0.406],\n",
    "#      std=[0.229, 0.224, 0.225]\n",
    "#  )\n",
    "\n",
    "# img = Image.open('img/resnet/swan-3299528_1280.jpg')\n",
    "\n",
    "# transformed_img = transform(img)\n",
    "\n",
    "# input = transform_normalize(transformed_img)\n",
    "# input = input.unsqueeze(0)"
   ]
  },
  {
   "cell_type": "code",
   "execution_count": null,
   "id": "b01dd9d8",
   "metadata": {},
   "outputs": [],
   "source": [
    "# for _, data in enumerate(dataset):\n",
    "#     plt.imshow(data[0])\n",
    "#     plt.show()\n",
    "#     print(data[1])"
   ]
  },
  {
   "cell_type": "code",
   "execution_count": null,
   "id": "f856dc44",
   "metadata": {},
   "outputs": [],
   "source": [
    "# liste=[]\n",
    "# for _, data in enumerate(dataset):\n",
    "#     liste.append(data[1])"
   ]
  },
  {
   "cell_type": "code",
   "execution_count": null,
   "id": "ec82c554",
   "metadata": {},
   "outputs": [],
   "source": [
    "# np.unique(np.array(liste))"
   ]
  },
  {
   "cell_type": "code",
   "execution_count": null,
   "id": "1c72eee9",
   "metadata": {},
   "outputs": [],
   "source": [
    "# class Net(nn.Module):\n",
    "#     def __init__(self, f):\n",
    "#         super(Net, self).__init__()\n",
    "#         self.f = f\n",
    "        \n",
    "#     def forward(self, imgs):\n",
    "#         out, _ = f(imgs)\n",
    "#         return out\n",
    "    \n",
    "# net = Net(f)"
   ]
  },
  {
   "cell_type": "code",
   "execution_count": null,
   "id": "5f35e800",
   "metadata": {},
   "outputs": [],
   "source": [
    "# import gc\n",
    "# del model\n",
    "# gc.collect()"
   ]
  },
  {
   "cell_type": "code",
   "execution_count": null,
   "id": "094a4a71",
   "metadata": {},
   "outputs": [],
   "source": [
    "torch.cuda.memory_summary(device=None, abbreviated=True)"
   ]
  },
  {
   "cell_type": "code",
   "execution_count": null,
   "id": "c8a8fca2",
   "metadata": {},
   "outputs": [],
   "source": [
    "unorm_mean = (-0.4914/0.247, -0.4822/0.243, -0.4465/0.261)\n",
    "unorm_std = (1/0.247, 1/0.243, 1/0.261)\n",
    "transform_unormalize=transforms.Compose([transforms.Normalize(unorm_mean, unorm_std)])"
   ]
  },
  {
   "cell_type": "code",
   "execution_count": null,
   "id": "9bbc0519",
   "metadata": {},
   "outputs": [],
   "source": [
    "def imshow(img, transpose = True):\n",
    "    img = transform_unormalize(img)     # unnormalize\n",
    "    npimg = img.numpy()\n",
    "    plt.imshow(np.transpose(npimg, (1, 2, 0)))\n",
    "    plt.show()\n",
    "\n",
    "dataiter = iter(test_loader)\n",
    "images, labels = dataiter.next()\n",
    "\n",
    "# for batch_idx, batch_info in enumerate(test_loader):\n",
    "#     images, labels = batch_info[0].to(device), batch_info[1].to(device)\n",
    "\n",
    "# print images\n",
    "imshow(torchvision.utils.make_grid(images))\n",
    "print('GroundTruth: ', ' '.join('%5s' % classes[labels[j]] for j in range(len(images))))\n",
    "\n",
    "\n",
    "# outputs, _ = f(images.to(device))\n",
    "outputs = f_copy(images.to(device))\n",
    "\n",
    "_, predicted = torch.max(outputs, 1)\n",
    "\n",
    "print('Predicted: ', ' '.join('%5s' % classes[predicted[j]]\n",
    "                              for j in range(len(images))))"
   ]
  },
  {
   "cell_type": "code",
   "execution_count": null,
   "id": "280823b3",
   "metadata": {},
   "outputs": [],
   "source": [
    "images.shape"
   ]
  },
  {
   "cell_type": "code",
   "execution_count": null,
   "id": "5eca68f0",
   "metadata": {},
   "outputs": [],
   "source": [
    "ind = 3\n",
    "\n",
    "input = images[ind].unsqueeze(0)\n",
    "input.requires_grad = True\n",
    "\n",
    "f.eval()\n",
    "\n",
    "print(\"Mode evaluation\")"
   ]
  },
  {
   "cell_type": "code",
   "execution_count": null,
   "id": "54d6a5d5",
   "metadata": {},
   "outputs": [],
   "source": [
    "print(input.shape)\n",
    "print(labels[ind].item())"
   ]
  },
  {
   "cell_type": "code",
   "execution_count": null,
   "id": "8c694a18",
   "metadata": {},
   "outputs": [],
   "source": [
    "def attribute_image_features(algorithm, input, **kwargs):\n",
    "    f_copy.zero_grad()\n",
    "    tensor_attributions = algorithm.attribute(input, target=labels[ind], **kwargs) \n",
    "    return tensor_attributions\n",
    "        "
   ]
  },
  {
   "cell_type": "code",
   "execution_count": null,
   "id": "638d33d0",
   "metadata": {},
   "outputs": [],
   "source": [
    "input=input.to(device)"
   ]
  },
  {
   "cell_type": "code",
   "execution_count": null,
   "id": "68c7483b",
   "metadata": {},
   "outputs": [],
   "source": [
    "saliency = Saliency(f_copy)\n",
    "grads = saliency.attribute(input, target=labels[ind].item())\n",
    "grads = np.transpose(grads.squeeze().cpu().detach().numpy(), (1, 2, 0))"
   ]
  },
  {
   "cell_type": "code",
   "execution_count": null,
   "id": "2035cb27",
   "metadata": {},
   "outputs": [],
   "source": [
    "ig = IntegratedGradients(f_copy)\n",
    "attr_ig, delta = attribute_image_features(ig, input, baselines=input * 0, return_convergence_delta=True)\n",
    "attr_ig = np.transpose(attr_ig.squeeze().cpu().detach().numpy(), (1, 2, 0))\n",
    "print('Approximation delta: ', abs(delta))"
   ]
  },
  {
   "cell_type": "code",
   "execution_count": null,
   "id": "b60545f9",
   "metadata": {},
   "outputs": [],
   "source": [
    "ig = IntegratedGradients(f_copy)\n",
    "nt = NoiseTunnel(ig)\n",
    "attr_ig_nt = attribute_image_features(nt, input, baselines=input * 0, nt_type='smoothgrad_sq',\n",
    "                                      nt_samples=20, stdevs=0.2) #nt 100\n",
    "attr_ig_nt = np.transpose(attr_ig_nt.squeeze(0).cpu().detach().numpy(), (1, 2, 0))"
   ]
  },
  {
   "cell_type": "code",
   "execution_count": null,
   "id": "4e9b0f68",
   "metadata": {},
   "outputs": [],
   "source": []
  },
  {
   "cell_type": "code",
   "execution_count": null,
   "id": "6df7c55b",
   "metadata": {},
   "outputs": [],
   "source": [
    "# dl = DeepLift(f_copy)\n",
    "# attr_dl = attribute_image_features(dl, input, baselines=input * 0)\n",
    "# attr_dl = np.transpose(attr_dl.squeeze(0).cpu().detach().numpy(), (1, 2, 0))"
   ]
  },
  {
   "cell_type": "code",
   "execution_count": null,
   "id": "035fc0ea",
   "metadata": {},
   "outputs": [],
   "source": [
    "# dl = DeepLift(f_copy)\n",
    "# attributions, delta = dl.attribute(input, target=0, return_convergence_delta=True)\n",
    "# print('DeepLift Attributions:', attributions)\n",
    "# print('Convergence Delta:', delta)"
   ]
  },
  {
   "cell_type": "code",
   "execution_count": null,
   "id": "e95bea7e",
   "metadata": {},
   "outputs": [],
   "source": [
    "# dls = DeepLiftShap(f_copy)\n",
    "# baseline_dist = torch.randn(images.shape) * 0.001\n",
    "# baseline_dist = baseline_dist.to(device)\n",
    "# attr_dls, delta = dls.attribute(input, baseline_dist, target=0, return_convergence_delta=True)\n",
    "# print('DeepLiftSHAP Attributions:', attr_dls)\n",
    "# print('Convergence Delta:', delta)"
   ]
  },
  {
   "cell_type": "code",
   "execution_count": null,
   "id": "0ba1e67e",
   "metadata": {},
   "outputs": [],
   "source": []
  },
  {
   "cell_type": "code",
   "execution_count": null,
   "id": "93444ad9",
   "metadata": {},
   "outputs": [],
   "source": []
  },
  {
   "cell_type": "code",
   "execution_count": null,
   "id": "bcfdd490",
   "metadata": {},
   "outputs": [],
   "source": [
    "input.shape"
   ]
  },
  {
   "cell_type": "code",
   "execution_count": null,
   "id": "0cb64d6e",
   "metadata": {},
   "outputs": [],
   "source": [
    "input=input.to(device)\n",
    "f_copy = f_copy.to(device)"
   ]
  },
  {
   "cell_type": "code",
   "execution_count": null,
   "id": "3da7c032",
   "metadata": {},
   "outputs": [],
   "source": [
    "gs = GradientShap(f_copy)\n",
    "\n",
    "# We define a distribution of baselines and draw `n_samples` from that\n",
    "# distribution in order to estimate the expectations of gradients across all baselines\n",
    "baseline_dist = torch.randn(input.shape) * 0.001\n",
    "baseline_dist = baseline_dist.to(device)\n",
    "attr_gs, delta = gs.attribute(input, stdevs=0.09, n_samples=32, baselines=baseline_dist,\n",
    "                                   target=0, return_convergence_delta=True)\n",
    "attr_gs = np.transpose((attr_gs.squeeze(0).cpu().detach().numpy()), (1, 2, 0))\n",
    "print('GradientShap Attributions:', attr_gs)\n",
    "print('Convergence Delta:', delta)"
   ]
  },
  {
   "cell_type": "code",
   "execution_count": null,
   "id": "f1c5c19d",
   "metadata": {},
   "outputs": [],
   "source": []
  },
  {
   "cell_type": "code",
   "execution_count": null,
   "id": "46b04a7a",
   "metadata": {},
   "outputs": [],
   "source": [
    "# nc = NeuronConductance(f_copy, f_copy.convnet.conv1)\n",
    "# attributions = nc.attribute(input, neuron_selector=1, target=0)\n",
    "# print('Neuron Attributions:', attributions)"
   ]
  },
  {
   "cell_type": "code",
   "execution_count": null,
   "id": "05e377b9",
   "metadata": {},
   "outputs": [],
   "source": []
  },
  {
   "cell_type": "code",
   "execution_count": null,
   "id": "2356a540",
   "metadata": {},
   "outputs": [],
   "source": [
    "occlusion = Occlusion(f_copy)\n",
    "attr_occ = occlusion.attribute(input, target=labels[ind].item(), sliding_window_shapes=(3,4, 4))\n",
    "attr_occ = np.transpose(attr_occ.squeeze().cpu().detach().numpy(), (1, 2, 0))"
   ]
  },
  {
   "cell_type": "code",
   "execution_count": null,
   "id": "8c74b289",
   "metadata": {},
   "outputs": [],
   "source": [
    "occlusion2 = Occlusion(f_copy)\n",
    "attr_occ2 = occlusion2.attribute(input, target=labels[ind].item(), sliding_window_shapes=(3,1, 1))\n",
    "attr_occ2 = np.transpose(attr_occ2.squeeze().cpu().detach().numpy(), (1, 2, 0))"
   ]
  },
  {
   "cell_type": "code",
   "execution_count": null,
   "id": "b6003a63",
   "metadata": {},
   "outputs": [],
   "source": []
  },
  {
   "cell_type": "code",
   "execution_count": null,
   "id": "0362d7de",
   "metadata": {},
   "outputs": [],
   "source": [
    "print('Original Image')\n",
    "print('Predicted:', classes[predicted[ind]], \n",
    "      ' Probability:', torch.max(F.softmax(outputs, 1)).item())\n",
    "\n",
    "original_image = transform_unormalize(images[ind]).numpy()\n",
    "original_image = np.transpose(original_image, (1, 2, 0))\n",
    "\n",
    "_ = viz.visualize_image_attr(None, original_image, \n",
    "                      method=\"original_image\", title=\"Original Image\")\n",
    "\n",
    "_ = viz.visualize_image_attr(grads, original_image, method=\"blended_heat_map\", sign=\"absolute_value\",\n",
    "                          show_colorbar=True, title=\"Overlayed Gradient Magnitudes\")\n",
    "\n",
    "_ = viz.visualize_image_attr(attr_ig, original_image, method=\"blended_heat_map\",sign=\"all\",\n",
    "                          show_colorbar=True, title=\"Overlayed Integrated Gradients\")\n",
    "\n",
    "_ = viz.visualize_image_attr(attr_ig_nt, original_image, method=\"blended_heat_map\", sign=\"absolute_value\", \n",
    "                             outlier_perc=10, show_colorbar=True, \n",
    "                             title=\"Overlayed Integrated Gradients \\n with SmoothGrad Squared\")\n",
    "\n",
    "# _ = viz.visualize_image_attr(attr_dl, original_image, method=\"blended_heat_map\",sign=\"all\",show_colorbar=True, \n",
    "#                           title=\"Overlayed DeepLift\")\n",
    "\n",
    "_ = viz.visualize_image_attr(attr_gs, original_image, method=\"blended_heat_map\",sign=\"all\",\n",
    "                          show_colorbar=True, title=\"Overlayed Gradient SHAP\")\n",
    "\n",
    "_ = viz.visualize_image_attr(attr_occ, original_image, method=\"blended_heat_map\",sign=\"all\",\n",
    "                          show_colorbar=True, title=\"Overlayed Occlusion\")\n",
    "\n",
    "_ = viz.visualize_image_attr(attr_occ2, original_image, method=\"blended_heat_map\",sign=\"all\",\n",
    "                          show_colorbar=True, title=\"Overlayed Occlusion\")"
   ]
  },
  {
   "cell_type": "code",
   "execution_count": null,
   "id": "b96925bd",
   "metadata": {},
   "outputs": [],
   "source": [
    "torch.cuda.empty_cache()"
   ]
  },
  {
   "cell_type": "code",
   "execution_count": null,
   "id": "3e2ae58a",
   "metadata": {},
   "outputs": [],
   "source": []
  },
  {
   "cell_type": "code",
   "execution_count": null,
   "id": "63fe1d57",
   "metadata": {},
   "outputs": [],
   "source": []
  },
  {
   "cell_type": "code",
   "execution_count": null,
   "id": "ea08a831",
   "metadata": {},
   "outputs": [],
   "source": []
  }
 ],
 "metadata": {
  "kernelspec": {
   "display_name": "Python 3",
   "language": "python",
   "name": "python3"
  },
  "language_info": {
   "codemirror_mode": {
    "name": "ipython",
    "version": 3
   },
   "file_extension": ".py",
   "mimetype": "text/x-python",
   "name": "python",
   "nbconvert_exporter": "python",
   "pygments_lexer": "ipython3",
   "version": "3.6.9"
  }
 },
 "nbformat": 4,
 "nbformat_minor": 5
}
